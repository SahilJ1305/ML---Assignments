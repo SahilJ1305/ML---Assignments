{
 "cells": [
  {
   "cell_type": "code",
   "execution_count": 1,
   "id": "349208d9-d955-4eff-acc4-ed38908f319c",
   "metadata": {},
   "outputs": [],
   "source": [
    "import numpy as np\n",
    "import pandas as pd"
   ]
  },
  {
   "cell_type": "code",
   "execution_count": 4,
   "id": "6dc2e944-ce48-4eb4-b8d4-a7282c5c7872",
   "metadata": {},
   "outputs": [],
   "source": [
    " dataset = pd.read_csv(\"Customers.csv\")"
   ]
  },
  {
   "cell_type": "code",
   "execution_count": 6,
   "id": "deb30be3-bf0d-4e01-83e7-3320def94078",
   "metadata": {},
   "outputs": [
    {
     "data": {
      "text/html": [
       "<div>\n",
       "<style scoped>\n",
       "    .dataframe tbody tr th:only-of-type {\n",
       "        vertical-align: middle;\n",
       "    }\n",
       "\n",
       "    .dataframe tbody tr th {\n",
       "        vertical-align: top;\n",
       "    }\n",
       "\n",
       "    .dataframe thead th {\n",
       "        text-align: right;\n",
       "    }\n",
       "</style>\n",
       "<table border=\"1\" class=\"dataframe\">\n",
       "  <thead>\n",
       "    <tr style=\"text-align: right;\">\n",
       "      <th></th>\n",
       "      <th>CustomerID</th>\n",
       "      <th>Gender</th>\n",
       "      <th>Age</th>\n",
       "      <th>Annual Income ($)</th>\n",
       "      <th>Spending Score (1-100)</th>\n",
       "      <th>Profession</th>\n",
       "      <th>Work Experience</th>\n",
       "      <th>Family Size</th>\n",
       "    </tr>\n",
       "  </thead>\n",
       "  <tbody>\n",
       "    <tr>\n",
       "      <th>0</th>\n",
       "      <td>1</td>\n",
       "      <td>Male</td>\n",
       "      <td>19</td>\n",
       "      <td>15000</td>\n",
       "      <td>39</td>\n",
       "      <td>Healthcare</td>\n",
       "      <td>1</td>\n",
       "      <td>4</td>\n",
       "    </tr>\n",
       "    <tr>\n",
       "      <th>1</th>\n",
       "      <td>2</td>\n",
       "      <td>Male</td>\n",
       "      <td>21</td>\n",
       "      <td>35000</td>\n",
       "      <td>81</td>\n",
       "      <td>Engineer</td>\n",
       "      <td>3</td>\n",
       "      <td>3</td>\n",
       "    </tr>\n",
       "    <tr>\n",
       "      <th>2</th>\n",
       "      <td>3</td>\n",
       "      <td>Female</td>\n",
       "      <td>20</td>\n",
       "      <td>86000</td>\n",
       "      <td>6</td>\n",
       "      <td>Engineer</td>\n",
       "      <td>1</td>\n",
       "      <td>1</td>\n",
       "    </tr>\n",
       "    <tr>\n",
       "      <th>3</th>\n",
       "      <td>4</td>\n",
       "      <td>Female</td>\n",
       "      <td>23</td>\n",
       "      <td>59000</td>\n",
       "      <td>77</td>\n",
       "      <td>Lawyer</td>\n",
       "      <td>0</td>\n",
       "      <td>2</td>\n",
       "    </tr>\n",
       "    <tr>\n",
       "      <th>4</th>\n",
       "      <td>5</td>\n",
       "      <td>Female</td>\n",
       "      <td>31</td>\n",
       "      <td>38000</td>\n",
       "      <td>40</td>\n",
       "      <td>Entertainment</td>\n",
       "      <td>2</td>\n",
       "      <td>6</td>\n",
       "    </tr>\n",
       "  </tbody>\n",
       "</table>\n",
       "</div>"
      ],
      "text/plain": [
       "   CustomerID  Gender  Age  Annual Income ($)  Spending Score (1-100)  \\\n",
       "0           1    Male   19              15000                      39   \n",
       "1           2    Male   21              35000                      81   \n",
       "2           3  Female   20              86000                       6   \n",
       "3           4  Female   23              59000                      77   \n",
       "4           5  Female   31              38000                      40   \n",
       "\n",
       "      Profession  Work Experience  Family Size  \n",
       "0     Healthcare                1            4  \n",
       "1       Engineer                3            3  \n",
       "2       Engineer                1            1  \n",
       "3         Lawyer                0            2  \n",
       "4  Entertainment                2            6  "
      ]
     },
     "execution_count": 6,
     "metadata": {},
     "output_type": "execute_result"
    }
   ],
   "source": [
    "dataset.head()    "
   ]
  },
  {
   "cell_type": "code",
   "execution_count": 10,
   "id": "f5835cae-d010-4716-891c-ce813de18863",
   "metadata": {},
   "outputs": [
    {
     "data": {
      "text/plain": [
       "(2000, 8)"
      ]
     },
     "execution_count": 10,
     "metadata": {},
     "output_type": "execute_result"
    }
   ],
   "source": [
    "\n",
    "dataset.shape   "
   ]
  },
  {
   "cell_type": "code",
   "execution_count": 22,
   "id": "532d11e9-58b3-4dff-9f58-28f4f804046e",
   "metadata": {},
   "outputs": [
    {
     "data": {
      "text/html": [
       "<div>\n",
       "<style scoped>\n",
       "    .dataframe tbody tr th:only-of-type {\n",
       "        vertical-align: middle;\n",
       "    }\n",
       "\n",
       "    .dataframe tbody tr th {\n",
       "        vertical-align: top;\n",
       "    }\n",
       "\n",
       "    .dataframe thead th {\n",
       "        text-align: right;\n",
       "    }\n",
       "</style>\n",
       "<table border=\"1\" class=\"dataframe\">\n",
       "  <thead>\n",
       "    <tr style=\"text-align: right;\">\n",
       "      <th></th>\n",
       "      <th>CustomerID</th>\n",
       "      <th>Gender</th>\n",
       "      <th>Age</th>\n",
       "      <th>Annual Income ($)</th>\n",
       "      <th>Spending Score (1-100)</th>\n",
       "      <th>Profession</th>\n",
       "      <th>Work Experience</th>\n",
       "      <th>Family Size</th>\n",
       "    </tr>\n",
       "  </thead>\n",
       "  <tbody>\n",
       "    <tr>\n",
       "      <th>0</th>\n",
       "      <td>False</td>\n",
       "      <td>False</td>\n",
       "      <td>False</td>\n",
       "      <td>False</td>\n",
       "      <td>False</td>\n",
       "      <td>False</td>\n",
       "      <td>False</td>\n",
       "      <td>False</td>\n",
       "    </tr>\n",
       "    <tr>\n",
       "      <th>1</th>\n",
       "      <td>False</td>\n",
       "      <td>False</td>\n",
       "      <td>False</td>\n",
       "      <td>False</td>\n",
       "      <td>False</td>\n",
       "      <td>False</td>\n",
       "      <td>False</td>\n",
       "      <td>False</td>\n",
       "    </tr>\n",
       "    <tr>\n",
       "      <th>2</th>\n",
       "      <td>False</td>\n",
       "      <td>False</td>\n",
       "      <td>False</td>\n",
       "      <td>False</td>\n",
       "      <td>False</td>\n",
       "      <td>False</td>\n",
       "      <td>False</td>\n",
       "      <td>False</td>\n",
       "    </tr>\n",
       "    <tr>\n",
       "      <th>3</th>\n",
       "      <td>False</td>\n",
       "      <td>False</td>\n",
       "      <td>False</td>\n",
       "      <td>False</td>\n",
       "      <td>False</td>\n",
       "      <td>False</td>\n",
       "      <td>False</td>\n",
       "      <td>False</td>\n",
       "    </tr>\n",
       "    <tr>\n",
       "      <th>4</th>\n",
       "      <td>False</td>\n",
       "      <td>False</td>\n",
       "      <td>False</td>\n",
       "      <td>False</td>\n",
       "      <td>False</td>\n",
       "      <td>False</td>\n",
       "      <td>False</td>\n",
       "      <td>False</td>\n",
       "    </tr>\n",
       "    <tr>\n",
       "      <th>...</th>\n",
       "      <td>...</td>\n",
       "      <td>...</td>\n",
       "      <td>...</td>\n",
       "      <td>...</td>\n",
       "      <td>...</td>\n",
       "      <td>...</td>\n",
       "      <td>...</td>\n",
       "      <td>...</td>\n",
       "    </tr>\n",
       "    <tr>\n",
       "      <th>1995</th>\n",
       "      <td>False</td>\n",
       "      <td>False</td>\n",
       "      <td>False</td>\n",
       "      <td>False</td>\n",
       "      <td>False</td>\n",
       "      <td>False</td>\n",
       "      <td>False</td>\n",
       "      <td>False</td>\n",
       "    </tr>\n",
       "    <tr>\n",
       "      <th>1996</th>\n",
       "      <td>False</td>\n",
       "      <td>False</td>\n",
       "      <td>False</td>\n",
       "      <td>False</td>\n",
       "      <td>False</td>\n",
       "      <td>False</td>\n",
       "      <td>False</td>\n",
       "      <td>False</td>\n",
       "    </tr>\n",
       "    <tr>\n",
       "      <th>1997</th>\n",
       "      <td>False</td>\n",
       "      <td>False</td>\n",
       "      <td>False</td>\n",
       "      <td>False</td>\n",
       "      <td>False</td>\n",
       "      <td>False</td>\n",
       "      <td>False</td>\n",
       "      <td>False</td>\n",
       "    </tr>\n",
       "    <tr>\n",
       "      <th>1998</th>\n",
       "      <td>False</td>\n",
       "      <td>False</td>\n",
       "      <td>False</td>\n",
       "      <td>False</td>\n",
       "      <td>False</td>\n",
       "      <td>False</td>\n",
       "      <td>False</td>\n",
       "      <td>False</td>\n",
       "    </tr>\n",
       "    <tr>\n",
       "      <th>1999</th>\n",
       "      <td>False</td>\n",
       "      <td>False</td>\n",
       "      <td>False</td>\n",
       "      <td>False</td>\n",
       "      <td>False</td>\n",
       "      <td>False</td>\n",
       "      <td>False</td>\n",
       "      <td>False</td>\n",
       "    </tr>\n",
       "  </tbody>\n",
       "</table>\n",
       "<p>2000 rows × 8 columns</p>\n",
       "</div>"
      ],
      "text/plain": [
       "      CustomerID  Gender    Age  Annual Income ($)  Spending Score (1-100)  \\\n",
       "0          False   False  False              False                   False   \n",
       "1          False   False  False              False                   False   \n",
       "2          False   False  False              False                   False   \n",
       "3          False   False  False              False                   False   \n",
       "4          False   False  False              False                   False   \n",
       "...          ...     ...    ...                ...                     ...   \n",
       "1995       False   False  False              False                   False   \n",
       "1996       False   False  False              False                   False   \n",
       "1997       False   False  False              False                   False   \n",
       "1998       False   False  False              False                   False   \n",
       "1999       False   False  False              False                   False   \n",
       "\n",
       "      Profession  Work Experience  Family Size  \n",
       "0          False            False        False  \n",
       "1          False            False        False  \n",
       "2          False            False        False  \n",
       "3          False            False        False  \n",
       "4          False            False        False  \n",
       "...          ...              ...          ...  \n",
       "1995       False            False        False  \n",
       "1996       False            False        False  \n",
       "1997       False            False        False  \n",
       "1998       False            False        False  \n",
       "1999       False            False        False  \n",
       "\n",
       "[2000 rows x 8 columns]"
      ]
     },
     "execution_count": 22,
     "metadata": {},
     "output_type": "execute_result"
    }
   ],
   "source": [
    "\n",
    "dataset.isnull()    "
   ]
  },
  {
   "cell_type": "code",
   "execution_count": 26,
   "id": "03484999-6d25-4c5a-95dd-cd5f30aa1a76",
   "metadata": {},
   "outputs": [
    {
     "data": {
      "text/plain": [
       "True"
      ]
     },
     "execution_count": 26,
     "metadata": {},
     "output_type": "execute_result"
    }
   ],
   "source": [
    "dataset.isnull().values.any()    "
   ]
  },
  {
   "cell_type": "code",
   "execution_count": 30,
   "id": "3e397c36-4c88-4b34-8561-2302df5b4103",
   "metadata": {},
   "outputs": [
    {
     "data": {
      "text/plain": [
       "CustomerID                 0\n",
       "Gender                     0\n",
       "Age                        0\n",
       "Annual Income ($)          0\n",
       "Spending Score (1-100)     0\n",
       "Profession                35\n",
       "Work Experience            0\n",
       "Family Size                0\n",
       "dtype: int64"
      ]
     },
     "execution_count": 30,
     "metadata": {},
     "output_type": "execute_result"
    }
   ],
   "source": [
    "dataset.isnull().sum()   "
   ]
  },
  {
   "cell_type": "code",
   "execution_count": 36,
   "id": "510d2028-0c41-4b38-b21b-d43a48a5be62",
   "metadata": {},
   "outputs": [],
   "source": [
    "\n",
    "dataset_ds = dataset.drop(columns=[\"Profession\"])"
   ]
  },
  {
   "cell_type": "code",
   "execution_count": 44,
   "id": "58e10562-6e58-47d1-8b15-00ce70eb4d65",
   "metadata": {},
   "outputs": [
    {
     "data": {
      "text/plain": [
       "CustomerID                0\n",
       "Gender                    0\n",
       "Age                       0\n",
       "Annual Income ($)         0\n",
       "Spending Score (1-100)    0\n",
       "Work Experience           0\n",
       "Family Size               0\n",
       "dtype: int64"
      ]
     },
     "execution_count": 44,
     "metadata": {},
     "output_type": "execute_result"
    }
   ],
   "source": [
    "dataset_ds.isnull().sum()"
   ]
  },
  {
   "cell_type": "code",
   "execution_count": 50,
   "id": "1762c028-981f-4743-a333-780a8aa15b52",
   "metadata": {},
   "outputs": [
    {
     "data": {
      "text/plain": [
       "CustomerID                 int64\n",
       "Gender                    object\n",
       "Age                        int64\n",
       "Annual Income ($)          int64\n",
       "Spending Score (1-100)     int64\n",
       "Work Experience            int64\n",
       "Family Size                int64\n",
       "dtype: object"
      ]
     },
     "execution_count": 50,
     "metadata": {},
     "output_type": "execute_result"
    }
   ],
   "source": [
    "\n",
    "dataset_ds.dtypes"
   ]
  },
  {
   "cell_type": "code",
   "execution_count": 58,
   "id": "30e8b1b3-8aa2-4701-a4d2-0a8be62aec25",
   "metadata": {},
   "outputs": [
    {
     "data": {
      "text/plain": [
       "True"
      ]
     },
     "execution_count": 58,
     "metadata": {},
     "output_type": "execute_result"
    }
   ],
   "source": [
    "\n",
    "has_zero = (dataset_ds == 0).values.any()\n",
    "has_zero                                              "
   ]
  },
  {
   "cell_type": "code",
   "execution_count": 62,
   "id": "a75555e4-a548-4bdb-9cf2-6f2119b8f1ea",
   "metadata": {},
   "outputs": [
    {
     "data": {
      "text/plain": [
       "CustomerID                  0\n",
       "Gender                      0\n",
       "Age                        24\n",
       "Annual Income ($)           2\n",
       "Spending Score (1-100)      2\n",
       "Work Experience           431\n",
       "Family Size                 0\n",
       "dtype: int64"
      ]
     },
     "execution_count": 62,
     "metadata": {},
     "output_type": "execute_result"
    }
   ],
   "source": [
    "zero_counts = (dataset_ds == 0).sum()\n",
    "zero_counts"
   ]
  },
  {
   "cell_type": "code",
   "execution_count": 80,
   "id": "9df97fce-4248-4f68-bb65-c39ebe410d65",
   "metadata": {
    "scrolled": true
   },
   "outputs": [
    {
     "data": {
      "text/plain": [
       "CustomerID                  0\n",
       "Gender                      0\n",
       "Age                         0\n",
       "Annual Income ($)           2\n",
       "Spending Score (1-100)      2\n",
       "Work Experience           431\n",
       "Family Size                 0\n",
       "dtype: int64"
      ]
     },
     "execution_count": 80,
     "metadata": {},
     "output_type": "execute_result"
    }
   ],
   "source": [
    "dataset_ds['Age'] = dataset_ds['Age'].replace(0, dataset_ds['Age'].mean())\n",
    "(dataset_ds == 0).sum()             \n",
    "\n"
   ]
  },
  {
   "cell_type": "code",
   "execution_count": 92,
   "id": "8efa2a09-3ddd-4de1-b20a-4c71eabc459d",
   "metadata": {},
   "outputs": [
    {
     "name": "stdout",
     "output_type": "stream",
     "text": [
      "<class 'pandas.core.series.Series'>\n",
      "RangeIndex: 2000 entries, 0 to 1999\n",
      "Series name: Age\n",
      "Non-Null Count  Dtype\n",
      "--------------  -----\n",
      "2000 non-null   int64\n",
      "dtypes: int64(1)\n",
      "memory usage: 15.8 KB\n"
     ]
    }
   ],
   "source": [
    "dataset_ds['Age'].info()"
   ]
  },
  {
   "cell_type": "code",
   "execution_count": 94,
   "id": "6a08551d-9a08-4c25-b434-8f3d4bbedc8f",
   "metadata": {},
   "outputs": [
    {
     "data": {
      "text/plain": [
       "CustomerID                    1\n",
       "Gender                     Male\n",
       "Age                          19\n",
       "Annual Income ($)         15000\n",
       "Spending Score (1-100)       39\n",
       "Work Experience               1\n",
       "Family Size                   4\n",
       "Name: 0, dtype: object"
      ]
     },
     "execution_count": 94,
     "metadata": {},
     "output_type": "execute_result"
    }
   ],
   "source": [
    "\n",
    "dataset_ds.iloc[0]            "
   ]
  },
  {
   "cell_type": "code",
   "execution_count": 98,
   "id": "e9f7d596-cba7-404e-ae63-939b4c490eda",
   "metadata": {},
   "outputs": [
    {
     "data": {
      "text/html": [
       "<div>\n",
       "<style scoped>\n",
       "    .dataframe tbody tr th:only-of-type {\n",
       "        vertical-align: middle;\n",
       "    }\n",
       "\n",
       "    .dataframe tbody tr th {\n",
       "        vertical-align: top;\n",
       "    }\n",
       "\n",
       "    .dataframe thead th {\n",
       "        text-align: right;\n",
       "    }\n",
       "</style>\n",
       "<table border=\"1\" class=\"dataframe\">\n",
       "  <thead>\n",
       "    <tr style=\"text-align: right;\">\n",
       "      <th></th>\n",
       "      <th>CustomerID</th>\n",
       "      <th>Gender</th>\n",
       "      <th>Age</th>\n",
       "      <th>Annual Income ($)</th>\n",
       "      <th>Spending Score (1-100)</th>\n",
       "      <th>Work Experience</th>\n",
       "      <th>Family Size</th>\n",
       "    </tr>\n",
       "  </thead>\n",
       "  <tbody>\n",
       "    <tr>\n",
       "      <th>2</th>\n",
       "      <td>3</td>\n",
       "      <td>Female</td>\n",
       "      <td>20</td>\n",
       "      <td>86000</td>\n",
       "      <td>6</td>\n",
       "      <td>1</td>\n",
       "      <td>1</td>\n",
       "    </tr>\n",
       "    <tr>\n",
       "      <th>3</th>\n",
       "      <td>4</td>\n",
       "      <td>Female</td>\n",
       "      <td>23</td>\n",
       "      <td>59000</td>\n",
       "      <td>77</td>\n",
       "      <td>0</td>\n",
       "      <td>2</td>\n",
       "    </tr>\n",
       "    <tr>\n",
       "      <th>4</th>\n",
       "      <td>5</td>\n",
       "      <td>Female</td>\n",
       "      <td>31</td>\n",
       "      <td>38000</td>\n",
       "      <td>40</td>\n",
       "      <td>2</td>\n",
       "      <td>6</td>\n",
       "    </tr>\n",
       "    <tr>\n",
       "      <th>5</th>\n",
       "      <td>6</td>\n",
       "      <td>Female</td>\n",
       "      <td>22</td>\n",
       "      <td>58000</td>\n",
       "      <td>76</td>\n",
       "      <td>0</td>\n",
       "      <td>2</td>\n",
       "    </tr>\n",
       "  </tbody>\n",
       "</table>\n",
       "</div>"
      ],
      "text/plain": [
       "   CustomerID  Gender  Age  Annual Income ($)  Spending Score (1-100)  \\\n",
       "2           3  Female   20              86000                       6   \n",
       "3           4  Female   23              59000                      77   \n",
       "4           5  Female   31              38000                      40   \n",
       "5           6  Female   22              58000                      76   \n",
       "\n",
       "   Work Experience  Family Size  \n",
       "2                1            1  \n",
       "3                0            2  \n",
       "4                2            6  \n",
       "5                0            2  "
      ]
     },
     "execution_count": 98,
     "metadata": {},
     "output_type": "execute_result"
    }
   ],
   "source": [
    "dataset_ds.iloc[2:6]          "
   ]
  },
  {
   "cell_type": "code",
   "execution_count": 102,
   "id": "a5f0bc1c-ea79-4a39-9655-ce70f186ac0a",
   "metadata": {},
   "outputs": [
    {
     "data": {
      "text/plain": [
       "0       19\n",
       "1       21\n",
       "2       20\n",
       "3       23\n",
       "4       31\n",
       "        ..\n",
       "1995    71\n",
       "1996    91\n",
       "1997    87\n",
       "1998    77\n",
       "1999    90\n",
       "Name: Age, Length: 2000, dtype: int64"
      ]
     },
     "execution_count": 102,
     "metadata": {},
     "output_type": "execute_result"
    }
   ],
   "source": [
    "\n",
    "\n",
    "dataset_ds['Age']"
   ]
  },
  {
   "cell_type": "code",
   "execution_count": 114,
   "id": "1b90615c-324a-438a-bb63-700902984386",
   "metadata": {},
   "outputs": [
    {
     "data": {
      "text/html": [
       "<div>\n",
       "<style scoped>\n",
       "    .dataframe tbody tr th:only-of-type {\n",
       "        vertical-align: middle;\n",
       "    }\n",
       "\n",
       "    .dataframe tbody tr th {\n",
       "        vertical-align: top;\n",
       "    }\n",
       "\n",
       "    .dataframe thead th {\n",
       "        text-align: right;\n",
       "    }\n",
       "</style>\n",
       "<table border=\"1\" class=\"dataframe\">\n",
       "  <thead>\n",
       "    <tr style=\"text-align: right;\">\n",
       "      <th></th>\n",
       "      <th>CustomerID</th>\n",
       "      <th>Gender</th>\n",
       "      <th>Age</th>\n",
       "      <th>Annual Income ($)</th>\n",
       "      <th>Spending Score (1-100)</th>\n",
       "      <th>Work Experience</th>\n",
       "      <th>Family Size</th>\n",
       "    </tr>\n",
       "  </thead>\n",
       "  <tbody>\n",
       "    <tr>\n",
       "      <th>1103</th>\n",
       "      <td>1104</td>\n",
       "      <td>Female</td>\n",
       "      <td>99</td>\n",
       "      <td>103706</td>\n",
       "      <td>50</td>\n",
       "      <td>1</td>\n",
       "      <td>2</td>\n",
       "    </tr>\n",
       "    <tr>\n",
       "      <th>1524</th>\n",
       "      <td>1525</td>\n",
       "      <td>Female</td>\n",
       "      <td>99</td>\n",
       "      <td>150782</td>\n",
       "      <td>18</td>\n",
       "      <td>8</td>\n",
       "      <td>2</td>\n",
       "    </tr>\n",
       "    <tr>\n",
       "      <th>1629</th>\n",
       "      <td>1630</td>\n",
       "      <td>Male</td>\n",
       "      <td>99</td>\n",
       "      <td>162762</td>\n",
       "      <td>52</td>\n",
       "      <td>1</td>\n",
       "      <td>1</td>\n",
       "    </tr>\n",
       "    <tr>\n",
       "      <th>361</th>\n",
       "      <td>362</td>\n",
       "      <td>Male</td>\n",
       "      <td>99</td>\n",
       "      <td>63364</td>\n",
       "      <td>61</td>\n",
       "      <td>1</td>\n",
       "      <td>2</td>\n",
       "    </tr>\n",
       "    <tr>\n",
       "      <th>1322</th>\n",
       "      <td>1323</td>\n",
       "      <td>Female</td>\n",
       "      <td>99</td>\n",
       "      <td>144176</td>\n",
       "      <td>74</td>\n",
       "      <td>7</td>\n",
       "      <td>2</td>\n",
       "    </tr>\n",
       "    <tr>\n",
       "      <th>1771</th>\n",
       "      <td>1772</td>\n",
       "      <td>Female</td>\n",
       "      <td>99</td>\n",
       "      <td>84167</td>\n",
       "      <td>46</td>\n",
       "      <td>10</td>\n",
       "      <td>7</td>\n",
       "    </tr>\n",
       "    <tr>\n",
       "      <th>1188</th>\n",
       "      <td>1189</td>\n",
       "      <td>Female</td>\n",
       "      <td>99</td>\n",
       "      <td>122548</td>\n",
       "      <td>14</td>\n",
       "      <td>2</td>\n",
       "      <td>5</td>\n",
       "    </tr>\n",
       "    <tr>\n",
       "      <th>1401</th>\n",
       "      <td>1402</td>\n",
       "      <td>Male</td>\n",
       "      <td>99</td>\n",
       "      <td>139685</td>\n",
       "      <td>20</td>\n",
       "      <td>1</td>\n",
       "      <td>4</td>\n",
       "    </tr>\n",
       "    <tr>\n",
       "      <th>1133</th>\n",
       "      <td>1134</td>\n",
       "      <td>Female</td>\n",
       "      <td>99</td>\n",
       "      <td>57677</td>\n",
       "      <td>99</td>\n",
       "      <td>0</td>\n",
       "      <td>5</td>\n",
       "    </tr>\n",
       "    <tr>\n",
       "      <th>351</th>\n",
       "      <td>352</td>\n",
       "      <td>Male</td>\n",
       "      <td>99</td>\n",
       "      <td>173394</td>\n",
       "      <td>4</td>\n",
       "      <td>13</td>\n",
       "      <td>1</td>\n",
       "    </tr>\n",
       "  </tbody>\n",
       "</table>\n",
       "</div>"
      ],
      "text/plain": [
       "      CustomerID  Gender  Age  Annual Income ($)  Spending Score (1-100)  \\\n",
       "1103        1104  Female   99             103706                      50   \n",
       "1524        1525  Female   99             150782                      18   \n",
       "1629        1630    Male   99             162762                      52   \n",
       "361          362    Male   99              63364                      61   \n",
       "1322        1323  Female   99             144176                      74   \n",
       "1771        1772  Female   99              84167                      46   \n",
       "1188        1189  Female   99             122548                      14   \n",
       "1401        1402    Male   99             139685                      20   \n",
       "1133        1134  Female   99              57677                      99   \n",
       "351          352    Male   99             173394                       4   \n",
       "\n",
       "      Work Experience  Family Size  \n",
       "1103                1            2  \n",
       "1524                8            2  \n",
       "1629                1            1  \n",
       "361                 1            2  \n",
       "1322                7            2  \n",
       "1771               10            7  \n",
       "1188                2            5  \n",
       "1401                1            4  \n",
       "1133                0            5  \n",
       "351                13            1  "
      ]
     },
     "execution_count": 114,
     "metadata": {},
     "output_type": "execute_result"
    }
   ],
   "source": [
    "sorted_ds = dataset_ds.sort_values(by=\"Age\", ascending= False)\n",
    "sorted_ds.head(10)"
   ]
  },
  {
   "cell_type": "code",
   "execution_count": 116,
   "id": "a848c268-861c-4671-b883-097448137a26",
   "metadata": {},
   "outputs": [
    {
     "name": "stdout",
     "output_type": "stream",
     "text": [
      "<class 'pandas.core.frame.DataFrame'>\n",
      "RangeIndex: 2000 entries, 0 to 1999\n",
      "Data columns (total 7 columns):\n",
      " #   Column                  Non-Null Count  Dtype \n",
      "---  ------                  --------------  ----- \n",
      " 0   CustomerID              2000 non-null   int64 \n",
      " 1   Gender                  2000 non-null   object\n",
      " 2   Age                     2000 non-null   int64 \n",
      " 3   Annual Income ($)       2000 non-null   int64 \n",
      " 4   Spending Score (1-100)  2000 non-null   int64 \n",
      " 5   Work Experience         2000 non-null   int64 \n",
      " 6   Family Size             2000 non-null   int64 \n",
      "dtypes: int64(6), object(1)\n",
      "memory usage: 109.5+ KB\n"
     ]
    }
   ],
   "source": [
    "\n",
    "\n",
    "dataset_ds.info()     "
   ]
  },
  {
   "cell_type": "code",
   "execution_count": 120,
   "id": "f63f4b81-aa2f-4fbc-b505-594790c22b9e",
   "metadata": {},
   "outputs": [
    {
     "data": {
      "text/html": [
       "<div>\n",
       "<style scoped>\n",
       "    .dataframe tbody tr th:only-of-type {\n",
       "        vertical-align: middle;\n",
       "    }\n",
       "\n",
       "    .dataframe tbody tr th {\n",
       "        vertical-align: top;\n",
       "    }\n",
       "\n",
       "    .dataframe thead th {\n",
       "        text-align: right;\n",
       "    }\n",
       "</style>\n",
       "<table border=\"1\" class=\"dataframe\">\n",
       "  <thead>\n",
       "    <tr style=\"text-align: right;\">\n",
       "      <th></th>\n",
       "      <th>CustomerID</th>\n",
       "      <th>Age</th>\n",
       "      <th>Annual Income ($)</th>\n",
       "      <th>Spending Score (1-100)</th>\n",
       "      <th>Work Experience</th>\n",
       "      <th>Family Size</th>\n",
       "    </tr>\n",
       "  </thead>\n",
       "  <tbody>\n",
       "    <tr>\n",
       "      <th>count</th>\n",
       "      <td>2000.000000</td>\n",
       "      <td>2000.000000</td>\n",
       "      <td>2000.000000</td>\n",
       "      <td>2000.000000</td>\n",
       "      <td>2000.000000</td>\n",
       "      <td>2000.000000</td>\n",
       "    </tr>\n",
       "    <tr>\n",
       "      <th>mean</th>\n",
       "      <td>1000.500000</td>\n",
       "      <td>49.536000</td>\n",
       "      <td>110731.821500</td>\n",
       "      <td>50.962500</td>\n",
       "      <td>4.102500</td>\n",
       "      <td>3.768500</td>\n",
       "    </tr>\n",
       "    <tr>\n",
       "      <th>std</th>\n",
       "      <td>577.494589</td>\n",
       "      <td>27.913263</td>\n",
       "      <td>45739.536688</td>\n",
       "      <td>27.934661</td>\n",
       "      <td>3.922204</td>\n",
       "      <td>1.970749</td>\n",
       "    </tr>\n",
       "    <tr>\n",
       "      <th>min</th>\n",
       "      <td>1.000000</td>\n",
       "      <td>1.000000</td>\n",
       "      <td>0.000000</td>\n",
       "      <td>0.000000</td>\n",
       "      <td>0.000000</td>\n",
       "      <td>1.000000</td>\n",
       "    </tr>\n",
       "    <tr>\n",
       "      <th>25%</th>\n",
       "      <td>500.750000</td>\n",
       "      <td>26.000000</td>\n",
       "      <td>74572.000000</td>\n",
       "      <td>28.000000</td>\n",
       "      <td>1.000000</td>\n",
       "      <td>2.000000</td>\n",
       "    </tr>\n",
       "    <tr>\n",
       "      <th>50%</th>\n",
       "      <td>1000.500000</td>\n",
       "      <td>48.000000</td>\n",
       "      <td>110045.000000</td>\n",
       "      <td>50.000000</td>\n",
       "      <td>3.000000</td>\n",
       "      <td>4.000000</td>\n",
       "    </tr>\n",
       "    <tr>\n",
       "      <th>75%</th>\n",
       "      <td>1500.250000</td>\n",
       "      <td>73.000000</td>\n",
       "      <td>149092.750000</td>\n",
       "      <td>75.000000</td>\n",
       "      <td>7.000000</td>\n",
       "      <td>5.000000</td>\n",
       "    </tr>\n",
       "    <tr>\n",
       "      <th>max</th>\n",
       "      <td>2000.000000</td>\n",
       "      <td>99.000000</td>\n",
       "      <td>189974.000000</td>\n",
       "      <td>100.000000</td>\n",
       "      <td>17.000000</td>\n",
       "      <td>9.000000</td>\n",
       "    </tr>\n",
       "  </tbody>\n",
       "</table>\n",
       "</div>"
      ],
      "text/plain": [
       "        CustomerID          Age  Annual Income ($)  Spending Score (1-100)  \\\n",
       "count  2000.000000  2000.000000        2000.000000             2000.000000   \n",
       "mean   1000.500000    49.536000      110731.821500               50.962500   \n",
       "std     577.494589    27.913263       45739.536688               27.934661   \n",
       "min       1.000000     1.000000           0.000000                0.000000   \n",
       "25%     500.750000    26.000000       74572.000000               28.000000   \n",
       "50%    1000.500000    48.000000      110045.000000               50.000000   \n",
       "75%    1500.250000    73.000000      149092.750000               75.000000   \n",
       "max    2000.000000    99.000000      189974.000000              100.000000   \n",
       "\n",
       "       Work Experience  Family Size  \n",
       "count      2000.000000  2000.000000  \n",
       "mean          4.102500     3.768500  \n",
       "std           3.922204     1.970749  \n",
       "min           0.000000     1.000000  \n",
       "25%           1.000000     2.000000  \n",
       "50%           3.000000     4.000000  \n",
       "75%           7.000000     5.000000  \n",
       "max          17.000000     9.000000  "
      ]
     },
     "execution_count": 120,
     "metadata": {},
     "output_type": "execute_result"
    }
   ],
   "source": [
    "dataset_ds.describe()     "
   ]
  },
  {
   "cell_type": "code",
   "execution_count": 122,
   "id": "3d06de7e-b66b-4084-b4d8-4cf85bff7f1d",
   "metadata": {},
   "outputs": [
    {
     "data": {
      "text/plain": [
       "CustomerID                 int64\n",
       "Gender                    object\n",
       "Age                        int64\n",
       "Annual Income ($)          int64\n",
       "Spending Score (1-100)     int64\n",
       "Work Experience            int64\n",
       "Family Size                int64\n",
       "dtype: object"
      ]
     },
     "execution_count": 122,
     "metadata": {},
     "output_type": "execute_result"
    }
   ],
   "source": [
    "dataset_ds.dtypes           "
   ]
  },
  {
   "cell_type": "code",
   "execution_count": 124,
   "id": "ffc1a990-0b6c-413b-8fc3-d0fc986532b1",
   "metadata": {},
   "outputs": [
    {
     "data": {
      "text/plain": [
       "Age\n",
       "48    44\n",
       "31    31\n",
       "32    30\n",
       "52    30\n",
       "91    29\n",
       "      ..\n",
       "10    12\n",
       "42    12\n",
       "77    12\n",
       "71    12\n",
       "98     9\n",
       "Name: count, Length: 99, dtype: int64"
      ]
     },
     "execution_count": 124,
     "metadata": {},
     "output_type": "execute_result"
    }
   ],
   "source": [
    "\n",
    "\n",
    "unique_counts = dataset_ds['Age'].value_counts()\n",
    "unique_counts                       "
   ]
  },
  {
   "cell_type": "code",
   "execution_count": 136,
   "id": "902e0f02-4998-4279-8b88-34bd25d41642",
   "metadata": {},
   "outputs": [
    {
     "data": {
      "text/plain": [
       "Gender\n",
       "Female    1186\n",
       "Male       814\n",
       "Name: count, dtype: int64"
      ]
     },
     "execution_count": 136,
     "metadata": {},
     "output_type": "execute_result"
    }
   ],
   "source": [
    "unique_counts = dataset_ds['Gender'].value_counts()\n",
    "unique_counts                        "
   ]
  },
  {
   "cell_type": "code",
   "execution_count": 134,
   "id": "a3fdfb0e-3743-4213-b084-04032ffe9311",
   "metadata": {},
   "outputs": [
    {
     "data": {
      "text/plain": [
       "CustomerID                2000\n",
       "Gender                       2\n",
       "Age                         99\n",
       "Annual Income ($)         1786\n",
       "Spending Score (1-100)     101\n",
       "Work Experience             18\n",
       "Family Size                  9\n",
       "dtype: int64"
      ]
     },
     "execution_count": 134,
     "metadata": {},
     "output_type": "execute_result"
    }
   ],
   "source": [
    "dataset_ds.nunique()         "
   ]
  },
  {
   "cell_type": "code",
   "execution_count": 138,
   "id": "dff6de1c-ad7c-478d-8920-a101ae8f68b1",
   "metadata": {},
   "outputs": [
    {
     "name": "stdout",
     "output_type": "stream",
     "text": [
      "<class 'pandas.core.frame.DataFrame'>\n",
      "RangeIndex: 2000 entries, 0 to 1999\n",
      "Data columns (total 7 columns):\n",
      " #   Column                  Non-Null Count  Dtype \n",
      "---  ------                  --------------  ----- \n",
      " 0   CustomerID              2000 non-null   int64 \n",
      " 1   Gender                  2000 non-null   object\n",
      " 2   Age                     2000 non-null   int64 \n",
      " 3   Annual Income ($)       2000 non-null   int64 \n",
      " 4   Spending Score (1-100)  2000 non-null   int64 \n",
      " 5   Work Experience         2000 non-null   int64 \n",
      " 6   Family Size             2000 non-null   int64 \n",
      "dtypes: int64(6), object(1)\n",
      "memory usage: 109.5+ KB\n"
     ]
    }
   ],
   "source": [
    "dataset_ds.info()"
   ]
  },
  {
   "cell_type": "code",
   "execution_count": 140,
   "id": "be6f08ee-e3ef-40e6-9f44-f72ec7cbd8f7",
   "metadata": {},
   "outputs": [
    {
     "name": "stdout",
     "output_type": "stream",
     "text": [
      "<class 'pandas.core.frame.DataFrame'>\n",
      "RangeIndex: 2000 entries, 0 to 1999\n",
      "Data columns (total 7 columns):\n",
      " #   Column                  Non-Null Count  Dtype \n",
      "---  ------                  --------------  ----- \n",
      " 0   CustomerID              2000 non-null   int64 \n",
      " 1   Gender                  2000 non-null   object\n",
      " 2   Age                     2000 non-null   int64 \n",
      " 3   Annual Income ($)       2000 non-null   int64 \n",
      " 4   Spending Score (1-100)  2000 non-null   int64 \n",
      " 5   Work Experience         2000 non-null   int32 \n",
      " 6   Family Size             2000 non-null   int64 \n",
      "dtypes: int32(1), int64(5), object(1)\n",
      "memory usage: 101.7+ KB\n"
     ]
    }
   ],
   "source": [
    "\n",
    "\n",
    "dataset_ds['Work Experience'] = dataset_ds['Work Experience'].astype('int32')\n",
    "dataset_ds.info()"
   ]
  },
  {
   "cell_type": "code",
   "execution_count": null,
   "id": "faa91320-47e4-48b6-92b5-d4b9b02b1c6d",
   "metadata": {},
   "outputs": [],
   "source": []
  }
 ],
 "metadata": {
  "kernelspec": {
   "display_name": "Python 3 (ipykernel)",
   "language": "python",
   "name": "python3"
  },
  "language_info": {
   "codemirror_mode": {
    "name": "ipython",
    "version": 3
   },
   "file_extension": ".py",
   "mimetype": "text/x-python",
   "name": "python",
   "nbconvert_exporter": "python",
   "pygments_lexer": "ipython3",
   "version": "3.12.7"
  }
 },
 "nbformat": 4,
 "nbformat_minor": 5
}
